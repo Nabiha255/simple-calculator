{
  "nbformat": 4,
  "nbformat_minor": 0,
  "metadata": {
    "colab": {
      "provenance": [],
      "authorship_tag": "ABX9TyPftnlen1mAMRAFoDBMZwvD",
      "include_colab_link": true
    },
    "kernelspec": {
      "name": "python3",
      "display_name": "Python 3"
    },
    "language_info": {
      "name": "python"
    }
  },
  "cells": [
    {
      "cell_type": "markdown",
      "metadata": {
        "id": "view-in-github",
        "colab_type": "text"
      },
      "source": [
        "<a href=\"https://colab.research.google.com/github/Nabiha255/simple-calculator/blob/main/app_py.ipynb\" target=\"_parent\"><img src=\"https://colab.research.google.com/assets/colab-badge.svg\" alt=\"Open In Colab\"/></a>"
      ]
    },
    {
      "cell_type": "code",
      "source": [
        "import streamlit as st\n",
        "\n",
        "# Calculator functions\n",
        "def add(x, y):\n",
        "    return x + y\n",
        "\n",
        "def subtract(x, y):\n",
        "    return x - y\n",
        "\n",
        "def multiply(x, y):\n",
        "    return x * y\n",
        "\n",
        "def divide(x, y):\n",
        "    if y != 0:\n",
        "        return x / y\n",
        "    else:\n",
        "        return \"Cannot divide by zero!\"\n",
        "\n",
        "# Streamlit app\n",
        "st.title(\"Simple Calculator\")\n",
        "\n",
        "# User input\n",
        "operation = st.selectbox(\"Select operation:\", [\"Add\", \"Subtract\", \"Multiply\", \"Divide\"])\n",
        "\n",
        "num1 = st.number_input(\"Enter first number:\")\n",
        "num2 = st.number_input(\"Enter second number:\")\n",
        "\n",
        "if st.button(\"Calculate\"):\n",
        "    if operation == \"Add\":\n",
        "        result = add(num1, num2)\n",
        "        st.write(f\"{num1} + {num2} = {result}\")\n",
        "    elif operation == \"Subtract\":\n",
        "        result = subtract(num1, num2)\n",
        "        st.write(f\"{num1} - {num2} = {result}\")\n",
        "    elif operation == \"Multiply\":\n",
        "        result = multiply(num1, num2)\n",
        "        st.write(f\"{num1} * {num2} = {result}\")\n",
        "    elif operation == \"Divide\":\n",
        "        result = divide(num1, num2)\n",
        "        st.write(f\"{num1} / {num2} = {result}\")\n"
      ],
      "metadata": {
        "id": "sVU4R6Pipi0i"
      },
      "execution_count": null,
      "outputs": []
    }
  ]
}